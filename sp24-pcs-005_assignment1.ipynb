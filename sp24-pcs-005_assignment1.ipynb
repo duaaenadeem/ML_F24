{
 "cells": [
  {
   "cell_type": "markdown",
   "id": "e7902286",
   "metadata": {},
   "source": [
    "<p style=\"text-align: right;\"> Name : Duaa-e-Nadeem (SP24-PCS-005) </p>"
   ]
  },
  {
   "cell_type": "markdown",
   "id": "6cc6ba91",
   "metadata": {},
   "source": [
    "## ASSIGNMENT 1"
   ]
  },
  {
   "cell_type": "markdown",
   "id": "d7830c7a",
   "metadata": {},
   "source": [
    "### Task 1: Lists, Dictionaries, Tuples"
   ]
  },
  {
   "cell_type": "markdown",
   "id": "71f71991",
   "metadata": {},
   "source": [
    "#### 1.1. Creaye a list: nums = [3, 5, 7, 8, 12], make another list named ‘cubes’ and append the cubes of the given list ‘nums’ in this list and print it."
   ]
  },
  {
   "cell_type": "code",
   "execution_count": 1,
   "id": "2b9c7bc9",
   "metadata": {},
   "outputs": [
    {
     "name": "stdout",
     "output_type": "stream",
     "text": [
      "Cubes of the list nums: [27, 125, 343, 512, 1728]\n"
     ]
    }
   ],
   "source": [
    "nums = [3, 5, 7, 8, 12]\n",
    "cubes = []\n",
    "\n",
    "for num in nums:\n",
    "    # Appending the cube of each number to the cubes list\n",
    "    cubes.append(num ** 3)  \n",
    "\n",
    "print(\"Cubes of the list nums:\", cubes)"
   ]
  },
  {
   "cell_type": "markdown",
   "id": "013c2da3",
   "metadata": {},
   "source": [
    "#### 1.2. Create an empty dictionary: dict = {}, add the following data to the dictionary: ‘parrot’: 2, ‘goat’: 4, ‘spider’: 8, ‘crab’: 10 as key value pairs."
   ]
  },
  {
   "cell_type": "code",
   "execution_count": 2,
   "id": "33dc2399",
   "metadata": {},
   "outputs": [
    {
     "name": "stdout",
     "output_type": "stream",
     "text": [
      "Dictionary with animals and their number of legs: {'parrot': 2, 'goat': 4, 'spider': 8, 'crab': 10}\n"
     ]
    }
   ],
   "source": [
    "dict = {}\n",
    "dict['parrot'] = 2\n",
    "dict['goat'] = 4\n",
    "dict['spider'] = 8\n",
    "dict['crab'] = 10\n",
    "\n",
    "print(\"Dictionary with animals and their number of legs:\", dict)\n"
   ]
  },
  {
   "cell_type": "markdown",
   "id": "47032c37",
   "metadata": {},
   "source": [
    "#### 1.3. Use the ‘items’ method to loop over the dictionary (dict) and print the animals and their corresponding legs. Sum the legs of each animal, and print the total at the end."
   ]
  },
  {
   "cell_type": "code",
   "execution_count": 3,
   "id": "5cfd5b13",
   "metadata": {},
   "outputs": [
    {
     "name": "stdout",
     "output_type": "stream",
     "text": [
      "The parrot has 2 legs.\n",
      "The goat has 4 legs.\n",
      "The spider has 8 legs.\n",
      "The crab has 10 legs.\n",
      "Total number of legs: 24\n"
     ]
    }
   ],
   "source": [
    "total_legs = 0\n",
    "\n",
    "for animal in dict:  # Looping directly over the keys (animals)\n",
    "    legs = dict[animal]  # Accessing the value (legs) using the key\n",
    "    print(f\"The {animal} has {legs} legs.\")\n",
    "    total_legs += legs\n",
    "\n",
    "print(\"Total number of legs:\", total_legs)"
   ]
  },
  {
   "cell_type": "markdown",
   "id": "9ec76b26",
   "metadata": {},
   "source": [
    "#### 1.4. Create a tuple: A = (3, 9, 4, [5, 6]), change the value in the list from ‘5’ to ‘8’."
   ]
  },
  {
   "cell_type": "code",
   "execution_count": 8,
   "id": "f9d83fc1",
   "metadata": {},
   "outputs": [
    {
     "name": "stdout",
     "output_type": "stream",
     "text": [
      "Changed tuple A: (3, 9, 4, [8, 6])\n"
     ]
    }
   ],
   "source": [
    "A = (3, 9, 4, [5, 6])\n",
    "A[3][0] = 8  # Changing 5 to 8 in the list\n",
    "print(\"Changed tuple A:\", A)\n"
   ]
  },
  {
   "cell_type": "markdown",
   "id": "d78a15e7",
   "metadata": {},
   "source": [
    "#### 1.5. Delete the tuple A."
   ]
  },
  {
   "cell_type": "code",
   "execution_count": 9,
   "id": "39cf375a",
   "metadata": {},
   "outputs": [],
   "source": [
    "del A"
   ]
  },
  {
   "cell_type": "markdown",
   "id": "959c2c7a",
   "metadata": {},
   "source": [
    "#### 1.6. Create another tuple: B = (‘a’, ‘p’, ‘p’, ‘l’, ‘e’), print the number of occurrences of ‘p’ in the tuple."
   ]
  },
  {
   "cell_type": "code",
   "execution_count": 10,
   "id": "76c3751c",
   "metadata": {},
   "outputs": [
    {
     "name": "stdout",
     "output_type": "stream",
     "text": [
      "Occurrences of 'p' in tuple B: 2\n"
     ]
    }
   ],
   "source": [
    "B = ('a', 'p', 'p', 'l', 'e')\n",
    "print(\"Occurrences of 'p' in tuple B:\", B.count('p'))"
   ]
  },
  {
   "cell_type": "markdown",
   "id": "61a3ed08",
   "metadata": {},
   "source": [
    "#### 1.7. Print the index of ‘l’ in the tuple."
   ]
  },
  {
   "cell_type": "code",
   "execution_count": 11,
   "id": "92d358b7",
   "metadata": {},
   "outputs": [
    {
     "name": "stdout",
     "output_type": "stream",
     "text": [
      "Index of 'l' in tuple B: 3\n"
     ]
    }
   ],
   "source": [
    "print(\"Index of 'l' in tuple B:\", B.index('l'))"
   ]
  },
  {
   "cell_type": "markdown",
   "id": "d789574e",
   "metadata": {},
   "source": [
    "### Task 2: Numpy"
   ]
  },
  {
   "cell_type": "markdown",
   "id": "969ee494",
   "metadata": {},
   "source": [
    "#### Use built-in functions of numpy library to complete this task.\n",
    "#### List of functions available here (https://numpy.org/doc/1.19/genindex.html)\n",
    "#### A = \n",
    "####      1   2      3      4\n",
    "####       5    6     7       8\n",
    "####       9    10  11     12\n",
    "#### z = np.array([1, 0, 1])"
   ]
  },
  {
   "cell_type": "markdown",
   "id": "33475968",
   "metadata": {},
   "source": [
    "#### 2.1 Convert matrix A into numpy array"
   ]
  },
  {
   "cell_type": "code",
   "execution_count": 12,
   "id": "797e2569",
   "metadata": {},
   "outputs": [
    {
     "name": "stdout",
     "output_type": "stream",
     "text": [
      "Matrix A as numpy array:\n",
      "[[ 1  2  3  4]\n",
      " [ 5  6  7  8]\n",
      " [ 9 10 11 12]]\n"
     ]
    }
   ],
   "source": [
    "import numpy as np\n",
    "\n",
    "A = np.array([[1, 2, 3, 4],\n",
    "              [5, 6, 7, 8],\n",
    "              [9, 10, 11, 12]])\n",
    "\n",
    "print(\"Matrix A as numpy array:\")\n",
    "print(A)"
   ]
  },
  {
   "cell_type": "markdown",
   "id": "4cbec02b",
   "metadata": {},
   "source": [
    "#### 2.2 Use slicing to pull out the subarray consisting of the first 2 rows and columns 1 and 2. Store it in b which is a numpy array of shape (2, 2)."
   ]
  },
  {
   "cell_type": "code",
   "execution_count": 13,
   "id": "7e9496f6",
   "metadata": {},
   "outputs": [
    {
     "name": "stdout",
     "output_type": "stream",
     "text": [
      "Subarray b (first 2 rows and columns 1 and 2):\n",
      "[[1 2]\n",
      " [5 6]]\n"
     ]
    }
   ],
   "source": [
    "b = A[:2, :2]\n",
    "\n",
    "print(\"Subarray b (first 2 rows and columns 1 and 2):\")\n",
    "print(b)"
   ]
  },
  {
   "cell_type": "markdown",
   "id": "1a5e7f5b",
   "metadata": {},
   "source": [
    "#### 2.3 Create an empty matrix ‘C’ with the same shape as ‘A’."
   ]
  },
  {
   "cell_type": "code",
   "execution_count": 14,
   "id": "6327b3b8",
   "metadata": {},
   "outputs": [
    {
     "name": "stdout",
     "output_type": "stream",
     "text": [
      "Empty matrix C with the same shape as A:\n",
      "[[2 0 0 0]\n",
      " [0 0 0 0]\n",
      " [0 0 0 0]]\n"
     ]
    }
   ],
   "source": [
    "C = np.empty_like(A)\n",
    "print(\"Empty matrix C with the same shape as A:\")\n",
    "print(C)"
   ]
  },
  {
   "cell_type": "markdown",
   "id": "ea5411e3",
   "metadata": {},
   "source": [
    "#### 2.4 Add the vector z to each column of the matrix ‘A’ with an explicit loop and store it in ‘C’. Create the following:\n",
    "#### X = np.array([[1,2],[3,4]])\n",
    "#### Y = np.array([[5,6],[7,8]])\n",
    "#### v = np.array([9,10])"
   ]
  },
  {
   "cell_type": "code",
   "execution_count": 15,
   "id": "606dde2c",
   "metadata": {},
   "outputs": [
    {
     "name": "stdout",
     "output_type": "stream",
     "text": [
      "Matrix C after adding vector z to each column of A:\n",
      "[[ 2  3  4  5]\n",
      " [ 5  6  7  8]\n",
      " [10 11 12 13]]\n"
     ]
    }
   ],
   "source": [
    "z = np.array([1, 0, 1])\n",
    "\n",
    "for i in range(A.shape[1]):  \n",
    "    C[:, i] = A[:, i] + z  # Add vector z to each column of A\n",
    "\n",
    "print(\"Matrix C after adding vector z to each column of A:\")\n",
    "print(C)"
   ]
  },
  {
   "cell_type": "markdown",
   "id": "f6084d53",
   "metadata": {},
   "source": [
    "#### 2.5 Add and print the matrices X and Y."
   ]
  },
  {
   "cell_type": "code",
   "execution_count": 17,
   "id": "99722ea5",
   "metadata": {},
   "outputs": [
    {
     "name": "stdout",
     "output_type": "stream",
     "text": [
      "\n",
      "Sum of X and Y:\n",
      " [[ 6  8]\n",
      " [10 12]]\n"
     ]
    }
   ],
   "source": [
    "X = np.array([[1, 2],\n",
    "              [3, 4]])\n",
    "Y = np.array([[5, 6],\n",
    "              [7, 8]])\n",
    "\n",
    "sum_XY = np.add(X, Y)\n",
    "print(\"\\nSum of X and Y:\\n\", sum_XY)"
   ]
  },
  {
   "cell_type": "markdown",
   "id": "e4f4a21f",
   "metadata": {},
   "source": [
    "#### 2.6 Multiply and print the matrices X and Y."
   ]
  },
  {
   "cell_type": "code",
   "execution_count": 18,
   "id": "3bb0340c",
   "metadata": {},
   "outputs": [
    {
     "name": "stdout",
     "output_type": "stream",
     "text": [
      "\n",
      " multiplication of X and Y:\n",
      "[[ 5 12]\n",
      " [21 32]]\n"
     ]
    }
   ],
   "source": [
    "mul_XY = X * Y \n",
    "print(\"\\n multiplication of X and Y:\")\n",
    "print(mul_XY)"
   ]
  },
  {
   "cell_type": "markdown",
   "id": "b1338995",
   "metadata": {},
   "source": [
    "#### 2.7 Compute and print the element wise square root of matrix Y."
   ]
  },
  {
   "cell_type": "code",
   "execution_count": 19,
   "id": "a0ada5e3",
   "metadata": {},
   "outputs": [
    {
     "name": "stdout",
     "output_type": "stream",
     "text": [
      "\n",
      "Element-wise square root of matrix Y:\n",
      "[[2.23606798 2.44948974]\n",
      " [2.64575131 2.82842712]]\n"
     ]
    }
   ],
   "source": [
    "sqrt_Y = np.sqrt(Y) \n",
    "print(\"\\n Element-wise square root of matrix Y:\")\n",
    "print(sqrt_Y)"
   ]
  },
  {
   "cell_type": "markdown",
   "id": "2068c50a",
   "metadata": {},
   "source": [
    "#### 2.8 Compute and print the dot product of the matrix X and vector v. "
   ]
  },
  {
   "cell_type": "code",
   "execution_count": 20,
   "id": "a15fa561",
   "metadata": {},
   "outputs": [
    {
     "name": "stdout",
     "output_type": "stream",
     "text": [
      "\n",
      " Dot product of matrix X and vector v:\n",
      "[29 67]\n"
     ]
    }
   ],
   "source": [
    "v = np.array([9, 10])\n",
    "\n",
    "dot_product = np.dot(X, v) \n",
    "print(\"\\n Dot product of matrix X and vector v:\")\n",
    "print(dot_product)"
   ]
  },
  {
   "cell_type": "markdown",
   "id": "de68e520",
   "metadata": {},
   "source": [
    "#### 2.9 Compute and print the sum of each column of X."
   ]
  },
  {
   "cell_type": "code",
   "execution_count": 21,
   "id": "f98118d2",
   "metadata": {},
   "outputs": [
    {
     "name": "stdout",
     "output_type": "stream",
     "text": [
      "\n",
      " Sum of each column of matrix X:\n",
      "[4 6]\n"
     ]
    }
   ],
   "source": [
    "column_sum_X = np.sum(X, axis=0) \n",
    "print(\"\\n Sum of each column of matrix X:\")\n",
    "print(column_sum_X)"
   ]
  },
  {
   "cell_type": "markdown",
   "id": "55b1e993",
   "metadata": {},
   "source": [
    "### Task 3: Functions and Loops\n",
    "#### 3.1 Create a function ‘Compute’ that takes two arguments, distance and time, and use it to calculate velocity. "
   ]
  },
  {
   "cell_type": "code",
   "execution_count": 23,
   "id": "b21e6ea5",
   "metadata": {},
   "outputs": [],
   "source": [
    "def Compute(distance, time):\n",
    "    if time == 0:\n",
    "        return \"Time cannot be zero!\"  \n",
    "    velocity = distance / time  # Velocity = Distance / Time\n",
    "    return velocity"
   ]
  },
  {
   "cell_type": "markdown",
   "id": "66e22403",
   "metadata": {},
   "source": [
    "#### 3.2 Make a list named ‘even_num’ that contains all even numbers up till 12. Create a function ‘mult’ that takes the list ‘even_num’ as an argument and calculates the products of all entries using a for loop."
   ]
  },
  {
   "cell_type": "code",
   "execution_count": 25,
   "id": "495e5636",
   "metadata": {},
   "outputs": [],
   "source": [
    "even_num = [2, 4, 6, 8, 10, 12]  \n",
    "def mult(numbers):\n",
    "    product = 1  \n",
    "    for num in numbers:\n",
    "        product *= num  \n",
    "    return product"
   ]
  },
  {
   "cell_type": "markdown",
   "id": "242a46bf",
   "metadata": {},
   "source": [
    "### Task 4: Pandas\n",
    "### Create a Pandas dataframe named ‘pd’ that contains 5 rows and 4 columns, similar to the one given below:\n",
    "### C1 C2 C3 C4\n",
    "### 1 6 7 7\n",
    "### 2 7 9 5\n",
    "### 3 5 8 2\n",
    "### 5 4 6 8\n",
    "### 5 8 5 8\n",
    "#### 4.1 Print only the first two rows of the dataframe."
   ]
  },
  {
   "cell_type": "code",
   "execution_count": 26,
   "id": "bd481fa9",
   "metadata": {},
   "outputs": [
    {
     "name": "stdout",
     "output_type": "stream",
     "text": [
      "Initial DataFrame:\n",
      "   C1  C2  C3  C4\n",
      "0   1   6   7   7\n",
      "1   2   7   9   5\n",
      "2   3   5   8   2\n",
      "3   5   4   6   8\n",
      "4   5   8   5   8\n",
      "\n",
      "First two rows:\n",
      "   C1  C2  C3  C4\n",
      "0   1   6   7   7\n",
      "1   2   7   9   5\n"
     ]
    }
   ],
   "source": [
    "import pandas as pd\n",
    "# Create the dataframe\n",
    "data = {\n",
    "    'C1': [1, 2, 3, 5, 5],\n",
    "    'C2': [6, 7, 5, 4, 8],\n",
    "    'C3': [7, 9, 8, 6, 5],\n",
    "    'C4': [7, 5, 2, 8, 8]\n",
    "}\n",
    "df = pd.DataFrame(data)\n",
    "print(\"Initial DataFrame:\")\n",
    "print(df)\n",
    "\n",
    "print(\"\\nFirst two rows:\")\n",
    "print(df.head(2))\n"
   ]
  },
  {
   "cell_type": "markdown",
   "id": "c7b7b21d",
   "metadata": {},
   "source": [
    "#### 4.2 Print the second column."
   ]
  },
  {
   "cell_type": "code",
   "execution_count": 28,
   "id": "9508e6d3",
   "metadata": {},
   "outputs": [
    {
     "name": "stdout",
     "output_type": "stream",
     "text": [
      "Second column (C2):\n",
      "0    6\n",
      "1    7\n",
      "2    5\n",
      "3    4\n",
      "4    8\n",
      "Name: C2, dtype: int64\n"
     ]
    }
   ],
   "source": [
    "print(\"Second column (C2):\")\n",
    "print(df['C2']) "
   ]
  },
  {
   "cell_type": "markdown",
   "id": "99208cb3",
   "metadata": {},
   "source": [
    "#### 4.3 Change the name of the third column from ‘C3’ to ‘B3’."
   ]
  },
  {
   "cell_type": "code",
   "execution_count": 30,
   "id": "c78ff419",
   "metadata": {},
   "outputs": [
    {
     "name": "stdout",
     "output_type": "stream",
     "text": [
      "DataFrame after renaming column C3 to B3:\n",
      "   C1  C2  B3  C4\n",
      "0   1   6   7   7\n",
      "1   2   7   9   5\n",
      "2   3   5   8   2\n",
      "3   5   4   6   8\n",
      "4   5   8   5   8\n"
     ]
    }
   ],
   "source": [
    "df.rename(columns={'C3': 'B3'}, inplace=True)\n",
    "print(\"DataFrame after renaming column C3 to B3:\")\n",
    "print(df)"
   ]
  },
  {
   "cell_type": "markdown",
   "id": "dd830b4d",
   "metadata": {},
   "source": [
    "#### 4.4 Add a new column to the dataframe and name it ‘Sum’."
   ]
  },
  {
   "cell_type": "code",
   "execution_count": 31,
   "id": "30aedc17",
   "metadata": {},
   "outputs": [
    {
     "name": "stdout",
     "output_type": "stream",
     "text": [
      "DataFrame after adding 'Sum' column:\n",
      "   C1  C2  B3  C4  Sum\n",
      "0   1   6   7   7    0\n",
      "1   2   7   9   5    0\n",
      "2   3   5   8   2    0\n",
      "3   5   4   6   8    0\n",
      "4   5   8   5   8    0\n"
     ]
    }
   ],
   "source": [
    "df['Sum'] = 0 \n",
    "print(\"DataFrame after adding 'Sum' column:\")\n",
    "print(df)"
   ]
  },
  {
   "cell_type": "markdown",
   "id": "c4220892",
   "metadata": {},
   "source": [
    "#### 4.5 Sum the entries of each row and add the result in the column ‘Sum’."
   ]
  },
  {
   "cell_type": "code",
   "execution_count": 32,
   "id": "686a413b",
   "metadata": {},
   "outputs": [
    {
     "name": "stdout",
     "output_type": "stream",
     "text": [
      "DataFrame after summing rows into 'Sum' column:\n",
      "   C1  C2  B3  C4  Sum\n",
      "0   1   6   7   7   21\n",
      "1   2   7   9   5   23\n",
      "2   3   5   8   2   18\n",
      "3   5   4   6   8   23\n",
      "4   5   8   5   8   26\n"
     ]
    }
   ],
   "source": [
    "df['Sum'] = df.sum(axis=1) \n",
    "print(\"DataFrame after summing rows into 'Sum' column:\")\n",
    "print(df)"
   ]
  },
  {
   "cell_type": "markdown",
   "id": "7c513229",
   "metadata": {},
   "source": [
    "#### 4.6 Read CSV file named ‘hello_sample.csv’ (the file is available in the class Google Drive shared folder) into a Pandas dataframe."
   ]
  },
  {
   "cell_type": "code",
   "execution_count": 33,
   "id": "e03fe711",
   "metadata": {},
   "outputs": [],
   "source": [
    "csv_df = pd.read_csv('hello_sample.csv')"
   ]
  },
  {
   "cell_type": "markdown",
   "id": "d1c69696",
   "metadata": {},
   "source": [
    "#### 4.7 Print complete dataframe."
   ]
  },
  {
   "cell_type": "code",
   "execution_count": 34,
   "id": "7bf47cd2",
   "metadata": {},
   "outputs": [
    {
     "name": "stdout",
     "output_type": "stream",
     "text": [
      "Complete dataframe from CSV:\n",
      "    Gender  F_Color     B_Month  Weight\n",
      "0     Male    Black       March      77\n",
      "1     Male      Red       March      72\n",
      "2     Male    Black     October      53\n",
      "3   Female     Blue    February      63\n",
      "4     Male    black    October       80\n",
      "5   Female    Black    december      97\n",
      "6     Male   Orange      August      60\n",
      "7   Female      Red   September      59\n",
      "8     Male     Blue        July      60\n",
      "9     Male     Blue         May      58\n",
      "10  Female      Red    October       60\n",
      "11    Male    Black   September      65\n",
      "12    Male    Green    December      85\n",
      "13    Male    Black       April      72\n",
      "14    Male    Green    January       90\n",
      "15    Male   Yellow   November       90\n",
      "16    Male    Black      August      54\n",
      "17    Male    Black     January      82\n",
      "18    Male  Mustard   December       60\n",
      "19  Female    Black    October       76\n",
      "20    Male    Black   February       67\n",
      "21    Male   Yellow       April      74\n",
      "22    Male      Red  September       66\n"
     ]
    }
   ],
   "source": [
    "print(\"Complete dataframe from CSV:\")\n",
    "print(csv_df)"
   ]
  },
  {
   "cell_type": "markdown",
   "id": "1e40b1ca",
   "metadata": {},
   "source": [
    "#### 4.8 Print only bottom 2 records of the dataframe."
   ]
  },
  {
   "cell_type": "code",
   "execution_count": 35,
   "id": "a5731a60",
   "metadata": {},
   "outputs": [
    {
     "name": "stdout",
     "output_type": "stream",
     "text": [
      "Bottom two records of the dataframe:\n",
      "   Gender F_Color     B_Month  Weight\n",
      "21   Male  Yellow       April      74\n",
      "22   Male     Red  September       66\n"
     ]
    }
   ],
   "source": [
    "print(\"Bottom two records of the dataframe:\")\n",
    "print(csv_df.tail(2))"
   ]
  },
  {
   "cell_type": "markdown",
   "id": "72d0439a",
   "metadata": {},
   "source": [
    "#### 4.9 Print information about the dataframe."
   ]
  },
  {
   "cell_type": "code",
   "execution_count": 36,
   "id": "c1195b2a",
   "metadata": {},
   "outputs": [
    {
     "name": "stdout",
     "output_type": "stream",
     "text": [
      "Information about the dataframe:\n",
      "<class 'pandas.core.frame.DataFrame'>\n",
      "RangeIndex: 23 entries, 0 to 22\n",
      "Data columns (total 4 columns):\n",
      " #   Column   Non-Null Count  Dtype \n",
      "---  ------   --------------  ----- \n",
      " 0   Gender   23 non-null     object\n",
      " 1   F_Color  23 non-null     object\n",
      " 2   B_Month  23 non-null     object\n",
      " 3   Weight   23 non-null     int64 \n",
      "dtypes: int64(1), object(3)\n",
      "memory usage: 868.0+ bytes\n",
      "None\n"
     ]
    }
   ],
   "source": [
    "print(\"Information about the dataframe:\")\n",
    "print(csv_df.info()) "
   ]
  },
  {
   "cell_type": "markdown",
   "id": "95502bdc",
   "metadata": {},
   "source": [
    "#### 4.10 Print shape (rows x columns) of the dataframe."
   ]
  },
  {
   "cell_type": "code",
   "execution_count": 37,
   "id": "b2cc8427",
   "metadata": {},
   "outputs": [
    {
     "name": "stdout",
     "output_type": "stream",
     "text": [
      "Shape of the dataframe (rows x columns):\n",
      "(23, 4)\n"
     ]
    }
   ],
   "source": [
    "print(\"Shape of the dataframe (rows x columns):\")\n",
    "print(csv_df.shape)"
   ]
  },
  {
   "cell_type": "markdown",
   "id": "8bebbbf3",
   "metadata": {},
   "source": [
    "#### 4.11 Sort the data of the dataFrame using column ‘Weight’."
   ]
  },
  {
   "cell_type": "code",
   "execution_count": 39,
   "id": "741b94f9",
   "metadata": {},
   "outputs": [
    {
     "name": "stdout",
     "output_type": "stream",
     "text": [
      "Data sorted by 'Weight':\n",
      "    Gender  F_Color     B_Month  Weight\n",
      "2     Male    Black     October      53\n",
      "16    Male    Black      August      54\n",
      "9     Male     Blue         May      58\n",
      "7   Female      Red   September      59\n",
      "18    Male  Mustard   December       60\n",
      "10  Female      Red    October       60\n",
      "6     Male   Orange      August      60\n",
      "8     Male     Blue        July      60\n",
      "3   Female     Blue    February      63\n",
      "11    Male    Black   September      65\n",
      "22    Male      Red  September       66\n",
      "20    Male    Black   February       67\n",
      "13    Male    Black       April      72\n",
      "1     Male      Red       March      72\n",
      "21    Male   Yellow       April      74\n",
      "19  Female    Black    October       76\n",
      "0     Male    Black       March      77\n",
      "4     Male    black    October       80\n",
      "17    Male    Black     January      82\n",
      "12    Male    Green    December      85\n",
      "14    Male    Green    January       90\n",
      "15    Male   Yellow   November       90\n",
      "5   Female    Black    december      97\n"
     ]
    }
   ],
   "source": [
    "if 'Weight' in csv_df.columns: \n",
    "    sorted_df = csv_df.sort_values(by='Weight')\n",
    "    print(\"Data sorted by 'Weight':\")\n",
    "    print(sorted_df)\n",
    "else:\n",
    "    print(\"\\n'Weight' column not found in the dataframe.\")\n"
   ]
  },
  {
   "cell_type": "markdown",
   "id": "9fdf17f1",
   "metadata": {},
   "source": [
    "#### 4.12 Use isnull() and dropna() methods of the Pandas dataframe and see if they produce any changes."
   ]
  },
  {
   "cell_type": "code",
   "execution_count": 40,
   "id": "b156974f",
   "metadata": {},
   "outputs": [
    {
     "name": "stdout",
     "output_type": "stream",
     "text": [
      "Checking for missing values using isnull():\n",
      "    Gender  F_Color  B_Month  Weight\n",
      "0    False    False    False   False\n",
      "1    False    False    False   False\n",
      "2    False    False    False   False\n",
      "3    False    False    False   False\n",
      "4    False    False    False   False\n",
      "5    False    False    False   False\n",
      "6    False    False    False   False\n",
      "7    False    False    False   False\n",
      "8    False    False    False   False\n",
      "9    False    False    False   False\n",
      "10   False    False    False   False\n",
      "11   False    False    False   False\n",
      "12   False    False    False   False\n",
      "13   False    False    False   False\n",
      "14   False    False    False   False\n",
      "15   False    False    False   False\n",
      "16   False    False    False   False\n",
      "17   False    False    False   False\n",
      "18   False    False    False   False\n",
      "19   False    False    False   False\n",
      "20   False    False    False   False\n",
      "21   False    False    False   False\n",
      "22   False    False    False   False\n",
      "\n",
      "Dropping rows with missing values using dropna():\n",
      "    Gender  F_Color     B_Month  Weight\n",
      "0     Male    Black       March      77\n",
      "1     Male      Red       March      72\n",
      "2     Male    Black     October      53\n",
      "3   Female     Blue    February      63\n",
      "4     Male    black    October       80\n",
      "5   Female    Black    december      97\n",
      "6     Male   Orange      August      60\n",
      "7   Female      Red   September      59\n",
      "8     Male     Blue        July      60\n",
      "9     Male     Blue         May      58\n",
      "10  Female      Red    October       60\n",
      "11    Male    Black   September      65\n",
      "12    Male    Green    December      85\n",
      "13    Male    Black       April      72\n",
      "14    Male    Green    January       90\n",
      "15    Male   Yellow   November       90\n",
      "16    Male    Black      August      54\n",
      "17    Male    Black     January      82\n",
      "18    Male  Mustard   December       60\n",
      "19  Female    Black    October       76\n",
      "20    Male    Black   February       67\n",
      "21    Male   Yellow       April      74\n",
      "22    Male      Red  September       66\n"
     ]
    }
   ],
   "source": [
    "print(\"Checking for missing values using isnull():\")\n",
    "print(csv_df.isnull()) \n",
    "\n",
    "print(\"\\nDropping rows with missing values using dropna():\")\n",
    "clean_df = csv_df.dropna() \n",
    "print(clean_df)"
   ]
  },
  {
   "cell_type": "code",
   "execution_count": null,
   "id": "e69df8d1",
   "metadata": {},
   "outputs": [],
   "source": []
  }
 ],
 "metadata": {
  "kernelspec": {
   "display_name": "Python 3 (ipykernel)",
   "language": "python",
   "name": "python3"
  },
  "language_info": {
   "codemirror_mode": {
    "name": "ipython",
    "version": 3
   },
   "file_extension": ".py",
   "mimetype": "text/x-python",
   "name": "python",
   "nbconvert_exporter": "python",
   "pygments_lexer": "ipython3",
   "version": "3.11.7"
  }
 },
 "nbformat": 4,
 "nbformat_minor": 5
}
